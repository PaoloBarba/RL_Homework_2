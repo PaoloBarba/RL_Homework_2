{
 "cells": [
  {
   "cell_type": "code",
   "execution_count": 1,
   "metadata": {},
   "outputs": [],
   "source": [
    "import main\n",
    "import student\n",
    "import argparse\n",
    "import random\n",
    "import numpy as np\n",
    "from student import TDLambda_LVFA\n",
    "import gymnasium as gym\n",
    "random.seed(1) # do not modify\n",
    "np.random.seed(1)  # do not modify"
   ]
  },
  {
   "cell_type": "code",
   "execution_count": 2,
   "metadata": {},
   "outputs": [
    {
     "name": "stdout",
     "output_type": "stream",
     "text": [
      "ep | eval | epsilon | alpha\n",
      "0 -200.0 0.2985 0.01\n",
      "20 -200.0 0.27002622836197326 0.01\n",
      "40 -200.0 0.24426855612526807 0.01\n",
      "60 -200.0 0.22096789587246615 0.01\n",
      "80 -200.0 0.2 0.01\n",
      "100 -200.0 0.2 0.01\n",
      "120 -200.0 0.2 0.01\n",
      "140 -200.0 0.2 0.01\n",
      "160 -200.0 0.2 0.01\n",
      "180 -200.0 0.2 0.01\n"
     ]
    }
   ],
   "source": [
    "main.train(\"model.pkl\")"
   ]
  },
  {
   "cell_type": "code",
   "execution_count": 3,
   "metadata": {},
   "outputs": [],
   "source": [
    "def run():\n",
    "\n",
    "    env = gym.make('MountainCar-v0' , render_mode = \"human\")\n",
    "\n",
    "    state = env.reset()[0]\n",
    "    terminated = False\n",
    "\n",
    "    rewards = 0\n",
    "\n",
    "    agent = TDLambda_LVFA.load(\"model.pkl\")\n",
    "\n",
    "\n",
    "\n",
    "    while( not terminated and rewards > -1000):\n",
    "\n",
    "\n",
    "        action = agent.policy(state)\n",
    "\n",
    "        new_state, reward ,terminated , _ , _ = env.step(action)\n",
    "\n",
    "        state = new_state\n",
    "    \n",
    "    env.close()\n",
    "\n"
   ]
  },
  {
   "cell_type": "code",
   "execution_count": 4,
   "metadata": {},
   "outputs": [
    {
     "ename": "KeyboardInterrupt",
     "evalue": "",
     "output_type": "error",
     "traceback": [
      "\u001b[0;31m---------------------------------------------------------------------------\u001b[0m",
      "\u001b[0;31mKeyboardInterrupt\u001b[0m                         Traceback (most recent call last)",
      "\u001b[1;32m/Users/paolo/Documents/GitHub/RL_Homework_2/assignment2/rbf/prova.ipynb Cella 4\u001b[0m line \u001b[0;36m<cell line: 1>\u001b[0;34m()\u001b[0m\n\u001b[1;32m      <a href='vscode-notebook-cell:/Users/paolo/Documents/GitHub/RL_Homework_2/assignment2/rbf/prova.ipynb#W3sZmlsZQ%3D%3D?line=0'>1</a>\u001b[0m \u001b[39mif\u001b[39;00m \u001b[39m__name__\u001b[39m \u001b[39m==\u001b[39m \u001b[39m'\u001b[39m\u001b[39m__main__\u001b[39m\u001b[39m'\u001b[39m:\n\u001b[0;32m----> <a href='vscode-notebook-cell:/Users/paolo/Documents/GitHub/RL_Homework_2/assignment2/rbf/prova.ipynb#W3sZmlsZQ%3D%3D?line=1'>2</a>\u001b[0m     run()\n",
      "\u001b[1;32m/Users/paolo/Documents/GitHub/RL_Homework_2/assignment2/rbf/prova.ipynb Cella 4\u001b[0m line \u001b[0;36mrun\u001b[0;34m()\u001b[0m\n\u001b[1;32m     <a href='vscode-notebook-cell:/Users/paolo/Documents/GitHub/RL_Homework_2/assignment2/rbf/prova.ipynb#W3sZmlsZQ%3D%3D?line=9'>10</a>\u001b[0m agent \u001b[39m=\u001b[39m TDLambda_LVFA\u001b[39m.\u001b[39mload(\u001b[39m\"\u001b[39m\u001b[39mmodel.pkl\u001b[39m\u001b[39m\"\u001b[39m)\n\u001b[1;32m     <a href='vscode-notebook-cell:/Users/paolo/Documents/GitHub/RL_Homework_2/assignment2/rbf/prova.ipynb#W3sZmlsZQ%3D%3D?line=13'>14</a>\u001b[0m \u001b[39mwhile\u001b[39;00m( \u001b[39mnot\u001b[39;00m terminated \u001b[39mand\u001b[39;00m rewards \u001b[39m>\u001b[39m \u001b[39m-\u001b[39m\u001b[39m1000\u001b[39m):\n\u001b[0;32m---> <a href='vscode-notebook-cell:/Users/paolo/Documents/GitHub/RL_Homework_2/assignment2/rbf/prova.ipynb#W3sZmlsZQ%3D%3D?line=16'>17</a>\u001b[0m     action \u001b[39m=\u001b[39m agent\u001b[39m.\u001b[39;49mpolicy(state)\n\u001b[1;32m     <a href='vscode-notebook-cell:/Users/paolo/Documents/GitHub/RL_Homework_2/assignment2/rbf/prova.ipynb#W3sZmlsZQ%3D%3D?line=18'>19</a>\u001b[0m     new_state, reward ,terminated , _ , _ \u001b[39m=\u001b[39m env\u001b[39m.\u001b[39mstep(action)\n\u001b[1;32m     <a href='vscode-notebook-cell:/Users/paolo/Documents/GitHub/RL_Homework_2/assignment2/rbf/prova.ipynb#W3sZmlsZQ%3D%3D?line=20'>21</a>\u001b[0m     state \u001b[39m=\u001b[39m new_state\n",
      "File \u001b[0;32m~/Documents/GitHub/RL_Homework_2/assignment2/rbf/student.py:78\u001b[0m, in \u001b[0;36mTDLambda_LVFA.policy\u001b[0;34m(self, state)\u001b[0m\n\u001b[1;32m     77\u001b[0m \u001b[39mdef\u001b[39;00m \u001b[39mpolicy\u001b[39m(\u001b[39mself\u001b[39m, state): \u001b[39m# do not touch\u001b[39;00m\n\u001b[0;32m---> 78\u001b[0m     state_feats \u001b[39m=\u001b[39m \u001b[39mself\u001b[39;49m\u001b[39m.\u001b[39;49mfeature_encoder\u001b[39m.\u001b[39;49mencode(state)\n\u001b[1;32m     79\u001b[0m     \u001b[39mreturn\u001b[39;00m \u001b[39mself\u001b[39m\u001b[39m.\u001b[39mQ(state_feats)\u001b[39m.\u001b[39margmax()\n",
      "File \u001b[0;32m~/Documents/GitHub/RL_Homework_2/assignment2/rbf/student.py:31\u001b[0m, in \u001b[0;36mRBFFeatureEncoder.encode\u001b[0;34m(self, state)\u001b[0m\n\u001b[1;32m     30\u001b[0m \u001b[39mdef\u001b[39;00m \u001b[39mencode\u001b[39m(\u001b[39mself\u001b[39m, state):\n\u001b[0;32m---> 31\u001b[0m     samples \u001b[39m=\u001b[39m np\u001b[39m.\u001b[39marray([\u001b[39mself\u001b[39m\u001b[39m.\u001b[39menv\u001b[39m.\u001b[39mobservation_space\u001b[39m.\u001b[39msample() \u001b[39mfor\u001b[39;00m _ \u001b[39min\u001b[39;00m \u001b[39mrange\u001b[39m(\u001b[39m100\u001b[39m)]) \n\u001b[1;32m     32\u001b[0m     \u001b[39mself\u001b[39m\u001b[39m.\u001b[39mrbf_encoder\u001b[39m.\u001b[39mfit(samples) \n\u001b[1;32m     34\u001b[0m     \u001b[39mreturn\u001b[39;00m \u001b[39mself\u001b[39m\u001b[39m.\u001b[39mrbf_encoder\u001b[39m.\u001b[39mtransform(samples)[\u001b[39m0\u001b[39m]\n",
      "File \u001b[0;32m~/Documents/GitHub/RL_Homework_2/assignment2/rbf/student.py:31\u001b[0m, in \u001b[0;36m<listcomp>\u001b[0;34m(.0)\u001b[0m\n\u001b[1;32m     30\u001b[0m \u001b[39mdef\u001b[39;00m \u001b[39mencode\u001b[39m(\u001b[39mself\u001b[39m, state):\n\u001b[0;32m---> 31\u001b[0m     samples \u001b[39m=\u001b[39m np\u001b[39m.\u001b[39marray([\u001b[39mself\u001b[39;49m\u001b[39m.\u001b[39;49menv\u001b[39m.\u001b[39;49mobservation_space\u001b[39m.\u001b[39;49msample() \u001b[39mfor\u001b[39;00m _ \u001b[39min\u001b[39;00m \u001b[39mrange\u001b[39m(\u001b[39m100\u001b[39m)]) \n\u001b[1;32m     32\u001b[0m     \u001b[39mself\u001b[39m\u001b[39m.\u001b[39mrbf_encoder\u001b[39m.\u001b[39mfit(samples) \n\u001b[1;32m     34\u001b[0m     \u001b[39mreturn\u001b[39;00m \u001b[39mself\u001b[39m\u001b[39m.\u001b[39mrbf_encoder\u001b[39m.\u001b[39mtransform(samples)[\u001b[39m0\u001b[39m]\n",
      "File \u001b[0;32m~/opt/anaconda3/lib/python3.9/site-packages/gymnasium/spaces/box.py:228\u001b[0m, in \u001b[0;36mBox.sample\u001b[0;34m(self, mask)\u001b[0m\n\u001b[1;32m    218\u001b[0m sample[low_bounded] \u001b[39m=\u001b[39m (\n\u001b[1;32m    219\u001b[0m     \u001b[39mself\u001b[39m\u001b[39m.\u001b[39mnp_random\u001b[39m.\u001b[39mexponential(size\u001b[39m=\u001b[39mlow_bounded[low_bounded]\u001b[39m.\u001b[39mshape)\n\u001b[1;32m    220\u001b[0m     \u001b[39m+\u001b[39m \u001b[39mself\u001b[39m\u001b[39m.\u001b[39mlow[low_bounded]\n\u001b[1;32m    221\u001b[0m )\n\u001b[1;32m    223\u001b[0m sample[upp_bounded] \u001b[39m=\u001b[39m (\n\u001b[1;32m    224\u001b[0m     \u001b[39m-\u001b[39m\u001b[39mself\u001b[39m\u001b[39m.\u001b[39mnp_random\u001b[39m.\u001b[39mexponential(size\u001b[39m=\u001b[39mupp_bounded[upp_bounded]\u001b[39m.\u001b[39mshape)\n\u001b[1;32m    225\u001b[0m     \u001b[39m+\u001b[39m high[upp_bounded]\n\u001b[1;32m    226\u001b[0m )\n\u001b[0;32m--> 228\u001b[0m sample[bounded] \u001b[39m=\u001b[39m \u001b[39mself\u001b[39;49m\u001b[39m.\u001b[39;49mnp_random\u001b[39m.\u001b[39;49muniform(\n\u001b[1;32m    229\u001b[0m     low\u001b[39m=\u001b[39;49m\u001b[39mself\u001b[39;49m\u001b[39m.\u001b[39;49mlow[bounded], high\u001b[39m=\u001b[39;49mhigh[bounded], size\u001b[39m=\u001b[39;49mbounded[bounded]\u001b[39m.\u001b[39;49mshape\n\u001b[1;32m    230\u001b[0m )\n\u001b[1;32m    232\u001b[0m \u001b[39mif\u001b[39;00m \u001b[39mself\u001b[39m\u001b[39m.\u001b[39mdtype\u001b[39m.\u001b[39mkind \u001b[39min\u001b[39;00m [\u001b[39m\"\u001b[39m\u001b[39mi\u001b[39m\u001b[39m\"\u001b[39m, \u001b[39m\"\u001b[39m\u001b[39mu\u001b[39m\u001b[39m\"\u001b[39m, \u001b[39m\"\u001b[39m\u001b[39mb\u001b[39m\u001b[39m\"\u001b[39m]:\n\u001b[1;32m    233\u001b[0m     sample \u001b[39m=\u001b[39m np\u001b[39m.\u001b[39mfloor(sample)\n",
      "File \u001b[0;32m_generator.pyx:961\u001b[0m, in \u001b[0;36mnumpy.random._generator.Generator.uniform\u001b[0;34m()\u001b[0m\n",
      "File \u001b[0;32m<__array_function__ internals>:177\u001b[0m, in \u001b[0;36mall\u001b[0;34m(*args, **kwargs)\u001b[0m\n",
      "\u001b[0;31mKeyboardInterrupt\u001b[0m: "
     ]
    },
    {
     "ename": "",
     "evalue": "",
     "output_type": "error",
     "traceback": [
      "\u001b[1;31mSi è verificato un arresto anomalo del kernel durante l'esecuzione del codice nella cella attiva o in una cella precedente. Esaminare il codice nelle celle per identificare una possibile causa dell'errore. Per altre informazioni, fare clic su <a href='https://aka.ms/vscodeJupyterKernelCrash'>here</a>. Per altri dettagli, vedere Jupyter <a href='command:jupyter.viewOutput'>log</a>."
     ]
    }
   ],
   "source": [
    "if __name__ == '__main__':\n",
    "    run() "
   ]
  },
  {
   "cell_type": "code",
   "execution_count": 27,
   "metadata": {},
   "outputs": [],
   "source": [
    "env.close()"
   ]
  }
 ],
 "metadata": {
  "kernelspec": {
   "display_name": "base",
   "language": "python",
   "name": "python3"
  },
  "language_info": {
   "codemirror_mode": {
    "name": "ipython",
    "version": 3
   },
   "file_extension": ".py",
   "mimetype": "text/x-python",
   "name": "python",
   "nbconvert_exporter": "python",
   "pygments_lexer": "ipython3",
   "version": "3.9.12"
  }
 },
 "nbformat": 4,
 "nbformat_minor": 2
}
