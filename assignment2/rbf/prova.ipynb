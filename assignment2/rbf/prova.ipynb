{
 "cells": [
  {
   "cell_type": "code",
   "execution_count": 1,
   "metadata": {},
   "outputs": [],
   "source": [
    "import main\n",
    "import student\n",
    "import argparse\n",
    "import random\n",
    "import numpy as np\n",
    "from student import TDLambda_LVFA\n",
    "import gymnasium as gym\n",
    "random.seed(1) # do not modify\n",
    "np.random.seed(1)  # do not modify"
   ]
  },
  {
   "cell_type": "code",
   "execution_count": 2,
   "metadata": {},
   "outputs": [
    {
     "name": "stdout",
     "output_type": "stream",
     "text": [
      "ep | eval | epsilon | alpha\n",
      "0 -200.0 0.2985 0.01\n",
      "20 -200.0 0.27002622836197326 0.01\n",
      "40 -200.0 0.24426855612526807 0.01\n",
      "60 -200.0 0.22096789587246615 0.01\n",
      "80 -181.3 0.2 0.01\n",
      "100 -200.0 0.2 0.01\n",
      "120 -150.2 0.2 0.01\n",
      "140 -143.3 0.2 0.01\n",
      "160 -168.5 0.2 0.01\n",
      "180 -194.7 0.2 0.01\n"
     ]
    }
   ],
   "source": [
    "main.train(\"model.pkl\")"
   ]
  },
  {
   "cell_type": "code",
   "execution_count": 3,
   "metadata": {},
   "outputs": [],
   "source": [
    "def run():\n",
    "\n",
    "    env = gym.make('MountainCar-v0' , render_mode = \"human\")\n",
    "\n",
    "    state = env.reset()[0]\n",
    "    terminated = False\n",
    "\n",
    "    rewards = 0\n",
    "\n",
    "    agent = TDLambda_LVFA.load(\"model.pkl\")\n",
    "\n",
    "\n",
    "\n",
    "    while( not terminated and rewards > -1000):\n",
    "\n",
    "\n",
    "        action = agent.policy(state)\n",
    "\n",
    "        new_state, reward ,terminated , _ , _ = env.step(action)\n",
    "\n",
    "        state = new_state\n",
    "    \n",
    "    env.close()\n",
    "\n"
   ]
  },
  {
   "cell_type": "code",
   "execution_count": 4,
   "metadata": {},
   "outputs": [],
   "source": [
    "if __name__ == '__main__':\n",
    "    run() "
   ]
  },
  {
   "cell_type": "code",
   "execution_count": 1,
   "metadata": {},
   "outputs": [
    {
     "ename": "NameError",
     "evalue": "name 'env' is not defined",
     "output_type": "error",
     "traceback": [
      "\u001b[0;31m---------------------------------------------------------------------------\u001b[0m",
      "\u001b[0;31mNameError\u001b[0m                                 Traceback (most recent call last)",
      "\u001b[1;32m/Users/paolo/Documents/GitHub/RL_Homework_2/assignment2/rbf/prova.ipynb Cella 5\u001b[0m line \u001b[0;36m<cell line: 1>\u001b[0;34m()\u001b[0m\n\u001b[0;32m----> <a href='vscode-notebook-cell:/Users/paolo/Documents/GitHub/RL_Homework_2/assignment2/rbf/prova.ipynb#W4sZmlsZQ%3D%3D?line=0'>1</a>\u001b[0m env\u001b[39m.\u001b[39mclose()\n",
      "\u001b[0;31mNameError\u001b[0m: name 'env' is not defined"
     ]
    }
   ],
   "source": [
    "env.close()"
   ]
  }
 ],
 "metadata": {
  "kernelspec": {
   "display_name": "base",
   "language": "python",
   "name": "python3"
  },
  "language_info": {
   "codemirror_mode": {
    "name": "ipython",
    "version": 3
   },
   "file_extension": ".py",
   "mimetype": "text/x-python",
   "name": "python",
   "nbconvert_exporter": "python",
   "pygments_lexer": "ipython3",
   "version": "3.9.12"
  }
 },
 "nbformat": 4,
 "nbformat_minor": 2
}
